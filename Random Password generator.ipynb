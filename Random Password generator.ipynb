{
 "cells": [
  {
   "cell_type": "code",
   "execution_count": 1,
   "id": "aacc4ec6",
   "metadata": {},
   "outputs": [],
   "source": [
    "import string\n",
    "import random\n",
    "     "
   ]
  },
  {
   "cell_type": "code",
   "execution_count": 2,
   "id": "ca488eae",
   "metadata": {},
   "outputs": [],
   "source": [
    "if __name__==\"__main__\":\n",
    "  s1=string.ascii_lowercase\n",
    "  s2=string.ascii_uppercase\n",
    "  s3=string.digits\n",
    "  s4=string.punctuation"
   ]
  },
  {
   "cell_type": "code",
   "execution_count": 3,
   "id": "44d09760",
   "metadata": {},
   "outputs": [
    {
     "name": "stdout",
     "output_type": "stream",
     "text": [
      "Enter password length\n",
      "34\n",
      "Your password is:\n",
      "O=/H2n1UtoR`V,sF8xG}3-h[)&d(%Te^~W\n"
     ]
    }
   ],
   "source": [
    "plen=int(input(\"Enter password length\\n\"))\n",
    "s=[]\n",
    "s.extend(list(s1))\n",
    "s.extend(list(s2))\n",
    "s.extend(list(s3))\n",
    "s.extend(list(s4))\n",
    "random.shuffle(s)\n",
    "print(\"Your password is:\")\n",
    "print(\"\".join(s[0:plen]))"
   ]
  },
  {
   "cell_type": "code",
   "execution_count": null,
   "id": "76f5f0bd",
   "metadata": {},
   "outputs": [],
   "source": []
  }
 ],
 "metadata": {
  "kernelspec": {
   "display_name": "Python 3 (ipykernel)",
   "language": "python",
   "name": "python3"
  },
  "language_info": {
   "codemirror_mode": {
    "name": "ipython",
    "version": 3
   },
   "file_extension": ".py",
   "mimetype": "text/x-python",
   "name": "python",
   "nbconvert_exporter": "python",
   "pygments_lexer": "ipython3",
   "version": "3.11.5"
  }
 },
 "nbformat": 4,
 "nbformat_minor": 5
}
